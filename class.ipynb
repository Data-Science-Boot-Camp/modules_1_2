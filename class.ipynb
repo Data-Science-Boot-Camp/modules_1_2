{
 "cells": [
  {
   "attachments": {},
   "cell_type": "markdown",
   "metadata": {},
   "source": [
    "## Welcome to RandomCracy"
   ]
  },
  {
   "cell_type": "code",
   "execution_count": 18,
   "metadata": {},
   "outputs": [],
   "source": [
    "data_science_students = [\n",
    "    \"Claudio Bahamonde\",\n",
    "    \"Felipe Abarzúa\",\n",
    "    \"Diego Rodriguez\",\n",
    "    \"Javier Pizarro\",\n",
    "    \"Smilling Battaglini\",\n",
    "    \"Pamela Labbé\",\n",
    "    \"Marilina Fuentes\",\n",
    "    \"Jaime Castillo\",\n",
    "    \"Rodrigo Castillo\",\n",
    "    \"Ignacia Arenas\",\n",
    "    \"Luis reyes\",\n",
    "    \"Felipe Cabello\",\n",
    "    \"Polette Pino\",\n",
    "    \"Karen Lobos\",\n",
    "    \"Diego Ávila\",\n",
    "    \"Constanza Guzman\",\n",
    "    \"Nicole Alejandra Araya\",\n",
    "    \"Carlos Andrés Abarca\",\n",
    "    \"Marco Antonio Ramos\",\n",
    "    \"Claudia Araya\",\n",
    "    \"Daniela Hernández\",\n",
    "    \"Sergio Ananias\",\n",
    "    \"Alexis Bacian\",\n",
    "    \"Cristian Alvarez\",\n",
    "    \"Nubia Ascencio\",\n",
    "    \"Veronica Marín\",\n",
    "    \"Liliana Romina Garmendia\",\n",
    "    \"Rocio Macari\",\n",
    "    \"Loreto Llambias\",\n",
    "    \"Braulio Valdés\",\n",
    "]"
   ]
  },
  {
   "cell_type": "code",
   "execution_count": 3,
   "metadata": {},
   "outputs": [],
   "source": [
    "import random"
   ]
  },
  {
   "cell_type": "code",
   "execution_count": 39,
   "metadata": {},
   "outputs": [
    {
     "name": "stdout",
     "output_type": "stream",
     "text": [
      "El estudiante de Data Science elegido es: Marco Antonio Ramos\n"
     ]
    }
   ],
   "source": [
    "student = random.choice(data_science_students)\n",
    "print(f\"El estudiante de Data Science elegido es: {student}\")"
   ]
  },
  {
   "cell_type": "code",
   "execution_count": 12,
   "metadata": {},
   "outputs": [
    {
     "name": "stdout",
     "output_type": "stream",
     "text": [
      "['Claudio Bahamonde', 'Felipe Abarzúa', 'Diego Rodriguez', 'Javier Pizarro', 'Smilling Battaglini', 'Pamela Labbé', 'Marilina Fuentes', 'Jaime Castillo', 'Rodrigo Castillo', 'Ignacia Arenas', 'Luis reyes', 'Felipe Cabello', 'Polette Pino', 'Karen Lobos', 'Diego Ávila', 'Constanza Guzman', 'Nicole Alejandra Araya', 'Carlos Andrés Abarca', 'Marco Antonio Ramos', 'Claudia Araya', 'Daniela Hernández', 'Sergio Ananias', 'Alexis Bacian', 'Cristian Alvarez', 'Nubia Ascencio', 'Veronica Marín', 'Liliana Romina Garmendia', 'Rocio Macari', 'Loreto Llambias', 'Braulio Valdés']\n"
     ]
    }
   ],
   "source": [
    "# variable = \n",
    "print(data_science_students)"
   ]
  },
  {
   "cell_type": "code",
   "execution_count": 30,
   "metadata": {},
   "outputs": [
    {
     "data": {
      "text/plain": [
       "int"
      ]
     },
     "execution_count": 30,
     "metadata": {},
     "output_type": "execute_result"
    }
   ],
   "source": [
    "G = 9\n",
    "type(G)"
   ]
  },
  {
   "cell_type": "code",
   "execution_count": 15,
   "metadata": {},
   "outputs": [],
   "source": [
    "mi_varible = 10"
   ]
  },
  {
   "cell_type": "code",
   "execution_count": 27,
   "metadata": {},
   "outputs": [
    {
     "data": {
      "text/plain": [
       "str"
      ]
     },
     "execution_count": 27,
     "metadata": {},
     "output_type": "execute_result"
    }
   ],
   "source": [
    "valor_booleano = 'True'\n",
    "type(valor_booleano)"
   ]
  },
  {
   "cell_type": "code",
   "execution_count": 31,
   "metadata": {},
   "outputs": [
    {
     "name": "stdout",
     "output_type": "stream",
     "text": [
      "hola\n"
     ]
    }
   ],
   "source": [
    "cadena = 'hola'\n",
    "print(cadena)"
   ]
  },
  {
   "cell_type": "code",
   "execution_count": 38,
   "metadata": {},
   "outputs": [
    {
     "name": "stdout",
     "output_type": "stream",
     "text": [
      "('hola', False, 4, 5.4)\n"
     ]
    }
   ],
   "source": [
    "# tupla y lista\n",
    "variable_lista = ['hola', 2, False, 4, 5.4]\n",
    "variable_tupla = ('hola', False, 4, 5.4)\n"
   ]
  },
  {
   "cell_type": "code",
   "execution_count": 41,
   "metadata": {},
   "outputs": [
    {
     "name": "stdout",
     "output_type": "stream",
     "text": [
      "10\n",
      "20\n"
     ]
    }
   ],
   "source": [
    "x = 10\n",
    "print(x)\n",
    "x = 20\n",
    "print(x)"
   ]
  },
  {
   "cell_type": "code",
   "execution_count": 43,
   "metadata": {},
   "outputs": [
    {
     "name": "stdout",
     "output_type": "stream",
     "text": [
      "('hola', False, 4, 5.4)\n"
     ]
    },
    {
     "ename": "TypeError",
     "evalue": "'tuple' object does not support item assignment",
     "output_type": "error",
     "traceback": [
      "\u001b[0;31m---------------------------------------------------------------------------\u001b[0m",
      "\u001b[0;31mTypeError\u001b[0m                                 Traceback (most recent call last)",
      "\u001b[0;32m/tmp/ipykernel_38879/323394784.py\u001b[0m in \u001b[0;36m<module>\u001b[0;34m\u001b[0m\n\u001b[1;32m      1\u001b[0m \u001b[0mvariable_tupla\u001b[0m \u001b[0;34m=\u001b[0m \u001b[0;34m(\u001b[0m\u001b[0;34m'hola'\u001b[0m\u001b[0;34m,\u001b[0m \u001b[0;32mFalse\u001b[0m\u001b[0;34m,\u001b[0m \u001b[0;36m4\u001b[0m\u001b[0;34m,\u001b[0m \u001b[0;36m5.4\u001b[0m\u001b[0;34m)\u001b[0m\u001b[0;34m\u001b[0m\u001b[0;34m\u001b[0m\u001b[0m\n\u001b[1;32m      2\u001b[0m \u001b[0mprint\u001b[0m\u001b[0;34m(\u001b[0m\u001b[0mvariable_tupla\u001b[0m\u001b[0;34m)\u001b[0m\u001b[0;34m\u001b[0m\u001b[0;34m\u001b[0m\u001b[0m\n\u001b[0;32m----> 3\u001b[0;31m \u001b[0mvariable_tupla\u001b[0m\u001b[0;34m[\u001b[0m\u001b[0;36m0\u001b[0m\u001b[0;34m]\u001b[0m \u001b[0;34m=\u001b[0m \u001b[0;34m'adios'\u001b[0m\u001b[0;34m\u001b[0m\u001b[0;34m\u001b[0m\u001b[0m\n\u001b[0m",
      "\u001b[0;31mTypeError\u001b[0m: 'tuple' object does not support item assignment"
     ]
    }
   ],
   "source": [
    "variable_tupla = ('hola', False, 4, 5.4)\n",
    "print(variable_tupla)\n",
    "variable_tupla[0] = 'adios'"
   ]
  },
  {
   "cell_type": "code",
   "execution_count": 46,
   "metadata": {},
   "outputs": [
    {
     "name": "stdout",
     "output_type": "stream",
     "text": [
      "['hola', False, 4, 5.4]\n",
      "[True, False, 4, 5.4]\n"
     ]
    }
   ],
   "source": [
    "variable_lista = ['hola', False, 4, 5.4]\n",
    "print(variable_lista)\n",
    "\n",
    "variable_lista[0] = True\n",
    "print(variable_lista)"
   ]
  },
  {
   "cell_type": "code",
   "execution_count": 47,
   "metadata": {},
   "outputs": [],
   "source": [
    "# ejemplo de dicccionario\n",
    "diccionario = {\n",
    "    'nombre': 'Felipe',\n",
    "    'apellido': 'Abarzúa',\n",
    "    'edad': 30,\n",
    "    'hobbies': ['programar', 'jugar', 'correr']\n",
    "}"
   ]
  },
  {
   "cell_type": "code",
   "execution_count": 49,
   "metadata": {},
   "outputs": [
    {
     "data": {
      "text/plain": [
       "30"
      ]
     },
     "execution_count": 49,
     "metadata": {},
     "output_type": "execute_result"
    }
   ],
   "source": [
    "diccionario['edad']"
   ]
  },
  {
   "cell_type": "code",
   "execution_count": 50,
   "metadata": {},
   "outputs": [
    {
     "name": "stdout",
     "output_type": "stream",
     "text": [
      "El estudiante de Data Science elegido es: Smilling Battaglini\n"
     ]
    }
   ],
   "source": [
    "student = random.choice(data_science_students)\n",
    "print(f\"El estudiante de Data Science elegido es: {student}\")"
   ]
  },
  {
   "cell_type": "code",
   "execution_count": 53,
   "metadata": {},
   "outputs": [
    {
     "data": {
      "text/plain": [
       "2"
      ]
     },
     "execution_count": 53,
     "metadata": {},
     "output_type": "execute_result"
    }
   ],
   "source": [
    "7//3"
   ]
  },
  {
   "cell_type": "code",
   "execution_count": 57,
   "metadata": {},
   "outputs": [
    {
     "data": {
      "text/plain": [
       "True"
      ]
     },
     "execution_count": 57,
     "metadata": {},
     "output_type": "execute_result"
    }
   ],
   "source": [
    "3 >= 3"
   ]
  },
  {
   "cell_type": "code",
   "execution_count": 59,
   "metadata": {},
   "outputs": [
    {
     "name": "stdout",
     "output_type": "stream",
     "text": [
      "10\n",
      "11\n",
      "12\n"
     ]
    }
   ],
   "source": [
    "x = 10\n",
    "print(x)\n",
    "x = x + 1\n",
    "print(x)\n",
    "x += 1\n",
    "print(x)"
   ]
  },
  {
   "cell_type": "code",
   "execution_count": 61,
   "metadata": {},
   "outputs": [
    {
     "name": "stdout",
     "output_type": "stream",
     "text": [
      "1\n"
     ]
    }
   ],
   "source": [
    "a = 5\n",
    "a = a & 3\n",
    "print(a)"
   ]
  },
  {
   "cell_type": "code",
   "execution_count": 65,
   "metadata": {},
   "outputs": [
    {
     "data": {
      "text/plain": [
       "True"
      ]
     },
     "execution_count": 65,
     "metadata": {},
     "output_type": "execute_result"
    }
   ],
   "source": [
    "teemperatura = 20\n",
    "usar_polera = teemperatura > 30\n",
    "\n",
    "if not usar_polera:\n",
    "    print('No usar polera')"
   ]
  },
  {
   "cell_type": "code",
   "execution_count": 82,
   "metadata": {},
   "outputs": [
    {
     "name": "stdout",
     "output_type": "stream",
     "text": [
      "El estudiante de Data Science elegido es: Diego Rodriguez\n"
     ]
    }
   ],
   "source": [
    "student = random.choice(data_science_students)\n",
    "print(f\"El estudiante de Data Science elegido es: {student}\")"
   ]
  },
  {
   "cell_type": "code",
   "execution_count": 79,
   "metadata": {},
   "outputs": [
    {
     "name": "stdout",
     "output_type": "stream",
     "text": [
      "numero: 14.24\n"
     ]
    }
   ],
   "source": [
    "a = 10.2356\n",
    "b = f\"numero: {a + 4:.2f}\"\n",
    "\n",
    "print(b)"
   ]
  },
  {
   "cell_type": "code",
   "execution_count": 83,
   "metadata": {},
   "outputs": [
    {
     "name": "stdout",
     "output_type": "stream",
     "text": [
      "<class 'int'>\n",
      "<class 'float'>\n"
     ]
    },
    {
     "data": {
      "text/plain": [
       "False"
      ]
     },
     "execution_count": 83,
     "metadata": {},
     "output_type": "execute_result"
    }
   ],
   "source": [
    "x = 10\n",
    "print(type(x))\n",
    "\n",
    "y = 10.0\n",
    "print(type(y))\n",
    "\n",
    "x is y"
   ]
  },
  {
   "cell_type": "code",
   "execution_count": 86,
   "metadata": {},
   "outputs": [
    {
     "data": {
      "text/plain": [
       "True"
      ]
     },
     "execution_count": 86,
     "metadata": {},
     "output_type": "execute_result"
    }
   ],
   "source": [
    "True is True"
   ]
  },
  {
   "cell_type": "code",
   "execution_count": 87,
   "metadata": {},
   "outputs": [
    {
     "name": "stdout",
     "output_type": "stream",
     "text": [
      "<class 'int'>\n",
      "<class 'float'>\n"
     ]
    }
   ],
   "source": [
    "a = 10\n",
    "b = 2.4\n",
    "print(type(a))\n",
    "print(type(b))"
   ]
  },
  {
   "cell_type": "code",
   "execution_count": 88,
   "metadata": {},
   "outputs": [
    {
     "name": "stdout",
     "output_type": "stream",
     "text": [
      "<class 'float'>\n"
     ]
    }
   ],
   "source": [
    "print(type(a + b))"
   ]
  },
  {
   "cell_type": "code",
   "execution_count": 90,
   "metadata": {},
   "outputs": [
    {
     "name": "stdout",
     "output_type": "stream",
     "text": [
      "<class 'int'>\n",
      "<class 'float'>\n"
     ]
    }
   ],
   "source": [
    "a = 10\n",
    "print(type(a))\n",
    "a = float(a)\n",
    "print(type(a))"
   ]
  },
  {
   "cell_type": "code",
   "execution_count": 110,
   "metadata": {},
   "outputs": [
    {
     "data": {
      "text/plain": [
       "'holaha'"
      ]
     },
     "execution_count": 110,
     "metadata": {},
     "output_type": "execute_result"
    }
   ],
   "source": [
    "a = 'hola'\n",
    "b = 'ha'\n",
    "a + b"
   ]
  },
  {
   "cell_type": "code",
   "execution_count": 109,
   "metadata": {},
   "outputs": [
    {
     "name": "stdout",
     "output_type": "stream",
     "text": [
      "El estudiante de Data Science elegido es: Rodrigo Castillo\n"
     ]
    }
   ],
   "source": [
    "student = random.choice(data_science_students)\n",
    "print(f\"El estudiante de Data Science elegido es: {student}\")"
   ]
  },
  {
   "cell_type": "code",
   "execution_count": 111,
   "metadata": {},
   "outputs": [
    {
     "data": {
      "text/plain": [
       "list"
      ]
     },
     "execution_count": 111,
     "metadata": {},
     "output_type": "execute_result"
    }
   ],
   "source": [
    "mi_lista = [1, 2, 3, 4, 5, 6, 7, 8, 9, 10]\n",
    "type(mi_lista)"
   ]
  },
  {
   "cell_type": "code",
   "execution_count": 112,
   "metadata": {},
   "outputs": [
    {
     "data": {
      "text/plain": [
       "str"
      ]
     },
     "execution_count": 112,
     "metadata": {},
     "output_type": "execute_result"
    }
   ],
   "source": [
    "a = 'hola'\n",
    "type(a)"
   ]
  },
  {
   "cell_type": "code",
   "execution_count": 119,
   "metadata": {},
   "outputs": [
    {
     "data": {
      "text/plain": [
       "False"
      ]
     },
     "execution_count": 119,
     "metadata": {},
     "output_type": "execute_result"
    }
   ],
   "source": [
    "bool(\"\")"
   ]
  },
  {
   "cell_type": "code",
   "execution_count": 120,
   "metadata": {},
   "outputs": [],
   "source": [
    "n1 = int(input('Ingrese un numero: '))\n",
    "n2 = int(input('Ingrese otro numero: '))"
   ]
  },
  {
   "cell_type": "code",
   "execution_count": 121,
   "metadata": {},
   "outputs": [
    {
     "data": {
      "text/plain": [
       "(34, 12)"
      ]
     },
     "execution_count": 121,
     "metadata": {},
     "output_type": "execute_result"
    }
   ],
   "source": [
    "n1, n2"
   ]
  },
  {
   "cell_type": "code",
   "execution_count": 127,
   "metadata": {},
   "outputs": [
    {
     "name": "stdout",
     "output_type": "stream",
     "text": [
      "El numero 0 es mayor que -4\n"
     ]
    }
   ],
   "source": [
    "# verificar cual de los numeros ingresados es mayor\n",
    "\n",
    "if n1 > n2:\n",
    "\n",
    "    print(f'El numero {n1} es mayor que {n2}')\n",
    "\n",
    "elif n1 < n2:\n",
    "\n",
    "    print(f'El numero {n2} es mayor que {n1}')\n",
    "\n",
    "else:\n",
    "    \n",
    "    print(f'Los numeros {n1} y {n2} son iguales')\n",
    "\n",
    "\n"
   ]
  },
  {
   "cell_type": "code",
   "execution_count": 129,
   "metadata": {},
   "outputs": [
    {
     "name": "stdout",
     "output_type": "stream",
     "text": [
      "El numero 0 es mayor que -4\n"
     ]
    }
   ],
   "source": [
    "if n1 > n2:\n",
    "\n",
    "    print(f'El numero {n1} es mayor que {n2}')\n",
    "\n",
    "else:\n",
    "\n",
    "    if n1 < n2:\n",
    "\n",
    "        print(f'El numero {n2} es mayor que {n1}')\n",
    "\n",
    "    else:\n",
    "    \n",
    "        print(f'Los numeros {n1} y {n2} son iguales')\n",
    "\n"
   ]
  },
  {
   "cell_type": "code",
   "execution_count": 144,
   "metadata": {},
   "outputs": [
    {
     "name": "stdout",
     "output_type": "stream",
     "text": [
      "El estudiante de Data Science elegido es: Diego Rodriguez\n"
     ]
    }
   ],
   "source": []
  },
  {
   "cell_type": "code",
   "execution_count": 125,
   "metadata": {},
   "outputs": [],
   "source": [
    "n1 = int(input('Ingrese un numero: '))\n",
    "n2 = int(input('Ingrese otro numero: '))\n",
    "n3 = int(input('Ingrese otro numero: '))"
   ]
  },
  {
   "cell_type": "code",
   "execution_count": 130,
   "metadata": {},
   "outputs": [],
   "source": [
    "if n1 > n2 and n1 > n3:\n",
    "    print(f'El numero {n1} es el mayor')"
   ]
  },
  {
   "cell_type": "code",
   "execution_count": 132,
   "metadata": {},
   "outputs": [
    {
     "name": "stdout",
     "output_type": "stream",
     "text": [
      "True\n",
      "0\n",
      "True\n",
      "1\n",
      "True\n",
      "2\n",
      "True\n",
      "3\n",
      "True\n",
      "4\n",
      "True\n",
      "5\n",
      "True\n",
      "6\n",
      "True\n",
      "7\n",
      "True\n",
      "8\n",
      "True\n",
      "9\n"
     ]
    }
   ],
   "source": [
    "i = 0\n",
    "\n",
    "while i < 10:\n",
    "\n",
    "    print( i<10 )\n",
    "\n",
    "    print(i)\n",
    "\n",
    "    i += 1\n"
   ]
  },
  {
   "cell_type": "code",
   "execution_count": 143,
   "metadata": {},
   "outputs": [
    {
     "name": "stdout",
     "output_type": "stream",
     "text": [
      "2\n",
      "6\n",
      "10\n",
      "14\n",
      "18\n"
     ]
    }
   ],
   "source": [
    "for i in range(2, 20, 4):\n",
    "\n",
    "    print(i)"
   ]
  },
  {
   "cell_type": "code",
   "execution_count": 145,
   "metadata": {},
   "outputs": [],
   "source": [
    "# crear una funcion que convierta pesos a dolares\n",
    "\n",
    "def convertir_pesos_a_dolares(pesos, tasa_cambio):\n",
    "\n",
    "    dolares = pesos / tasa_cambio\n",
    "\n",
    "    return dolares"
   ]
  },
  {
   "cell_type": "code",
   "execution_count": 150,
   "metadata": {},
   "outputs": [
    {
     "name": "stdout",
     "output_type": "stream",
     "text": [
      "El estudiante de Data Science elegido es: Marco Antonio Ramos\n"
     ]
    }
   ],
   "source": [
    "student = random.choice(data_science_students)\n",
    "print(f\"El estudiante de Data Science elegido es: {student}\")"
   ]
  },
  {
   "cell_type": "code",
   "execution_count": 149,
   "metadata": {},
   "outputs": [
    {
     "name": "stdout",
     "output_type": "stream",
     "text": [
      "El salario de Polette en dolares es: 2515.72\n"
     ]
    }
   ],
   "source": [
    "salario_polett_usd = convertir_pesos_a_dolares(pesos=2_000_000, tasa_cambio=795)\n",
    "\n",
    "print(f\"El salario de Polette en dolares es: {salario_polett_usd:.2f}\")"
   ]
  },
  {
   "cell_type": "code",
   "execution_count": 151,
   "metadata": {},
   "outputs": [
    {
     "name": "stdout",
     "output_type": "stream",
     "text": [
      "El salario de un diputado en dolares es: 8805.03\n"
     ]
    }
   ],
   "source": [
    "salario_diputado_chile_usd = convertir_pesos_a_dolares(pesos=7_000_000, tasa_cambio=795)\n",
    "\n",
    "print(f\"El salario de un diputado en dolares es: {salario_diputado_chile_usd:.2f}\")"
   ]
  },
  {
   "cell_type": "code",
   "execution_count": 153,
   "metadata": {},
   "outputs": [
    {
     "name": "stdout",
     "output_type": "stream",
     "text": [
      "El salario minimo en dolares es: 566.04\n"
     ]
    }
   ],
   "source": [
    "salario_minimo = convertir_pesos_a_dolares(pesos=450_000, tasa_cambio=795)\n",
    "\n",
    "print(f\"El salario minimo en dolares es: {salario_minimo:.2f}\")"
   ]
  },
  {
   "cell_type": "code",
   "execution_count": 154,
   "metadata": {},
   "outputs": [
    {
     "data": {
      "text/plain": [
       "30"
      ]
     },
     "execution_count": 154,
     "metadata": {},
     "output_type": "execute_result"
    }
   ],
   "source": [
    "len(data_science_students)"
   ]
  },
  {
   "cell_type": "code",
   "execution_count": 156,
   "metadata": {},
   "outputs": [],
   "source": [
    "from random import choice"
   ]
  },
  {
   "cell_type": "code",
   "execution_count": 180,
   "metadata": {},
   "outputs": [
    {
     "name": "stdout",
     "output_type": "stream",
     "text": [
      "El estudiante de Data Science elegido es: Smilling Battaglini\n"
     ]
    }
   ],
   "source": [
    "student = choice(data_science_students)\n",
    "print(f\"El estudiante de Data Science elegido es: {student}\")"
   ]
  },
  {
   "cell_type": "code",
   "execution_count": 160,
   "metadata": {},
   "outputs": [],
   "source": [
    "import mis_funciones"
   ]
  },
  {
   "cell_type": "code",
   "execution_count": 161,
   "metadata": {},
   "outputs": [
    {
     "name": "stdout",
     "output_type": "stream",
     "text": [
      "HOLA MUNDO\n"
     ]
    }
   ],
   "source": [
    "texto = mis_funciones.convertir_mayusculas('hola mundo')\n",
    "print(texto)"
   ]
  },
  {
   "cell_type": "code",
   "execution_count": 181,
   "metadata": {},
   "outputs": [
    {
     "data": {
      "text/plain": [
       "6"
      ]
     },
     "execution_count": 181,
     "metadata": {},
     "output_type": "execute_result"
    }
   ],
   "source": [
    "# crear una funcion lambda que sume dos numeros\n",
    "\n",
    "sumar = lambda x, y, z: x + y + z\n",
    "\n",
    "sumar(1, 2, 3)"
   ]
  },
  {
   "cell_type": "code",
   "execution_count": 167,
   "metadata": {},
   "outputs": [
    {
     "name": "stdout",
     "output_type": "stream",
     "text": [
      "\u001b[0;31mDocstring:\u001b[0m\n",
      "reduce(function, iterable[, initial]) -> value\n",
      "\n",
      "Apply a function of two arguments cumulatively to the items of a sequence\n",
      "or iterable, from left to right, so as to reduce the iterable to a single\n",
      "value.  For example, reduce(lambda x, y: x+y, [1, 2, 3, 4, 5]) calculates\n",
      "((((1+2)+3)+4)+5).  If initial is present, it is placed before the items\n",
      "of the iterable in the calculation, and serves as a default when the\n",
      "iterable is empty.\n",
      "\u001b[0;31mType:\u001b[0m      builtin_function_or_method\n"
     ]
    }
   ],
   "source": [
    "from functools import reduce\n",
    "\n",
    "reduce?"
   ]
  },
  {
   "cell_type": "code",
   "execution_count": 179,
   "metadata": {},
   "outputs": [
    {
     "name": "stdout",
     "output_type": "stream",
     "text": [
      "323829412\n"
     ]
    },
    {
     "data": {
      "text/plain": [
       "323829412"
      ]
     },
     "execution_count": 179,
     "metadata": {},
     "output_type": "execute_result"
    }
   ],
   "source": [
    "l = [3, 2, 3, 8, 2, 94, 12]\n",
    "c = ''.join(map(str, l))\n",
    "print(c)\n",
    "c = int(c)\n",
    "c"
   ]
  },
  {
   "cell_type": "code",
   "execution_count": 177,
   "metadata": {},
   "outputs": [],
   "source": [
    "def convertir_lista_a_numero(lista):\n",
    "    return int(''.join(map(str, lista)))"
   ]
  },
  {
   "cell_type": "code",
   "execution_count": 188,
   "metadata": {},
   "outputs": [
    {
     "name": "stdout",
     "output_type": "stream",
     "text": [
      "2000000\n"
     ]
    }
   ],
   "source": [
    "a = 2_000_000\n",
    "print(a)"
   ]
  },
  {
   "cell_type": "code",
   "execution_count": null,
   "metadata": {},
   "outputs": [],
   "source": []
  }
 ],
 "metadata": {
  "kernelspec": {
   "display_name": "Python 3",
   "language": "python",
   "name": "python3"
  },
  "language_info": {
   "codemirror_mode": {
    "name": "ipython",
    "version": 3
   },
   "file_extension": ".py",
   "mimetype": "text/x-python",
   "name": "python",
   "nbconvert_exporter": "python",
   "pygments_lexer": "ipython3",
   "version": "3.10.6"
  },
  "orig_nbformat": 4
 },
 "nbformat": 4,
 "nbformat_minor": 2
}
