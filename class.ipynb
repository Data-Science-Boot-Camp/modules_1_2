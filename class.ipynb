{
 "cells": [
  {
   "attachments": {},
   "cell_type": "markdown",
   "metadata": {},
   "source": [
    "## Welcome to RandomCracy"
   ]
  },
  {
   "cell_type": "code",
   "execution_count": 3,
   "metadata": {},
   "outputs": [],
   "source": [
    "data_science_students = [\n",
    "    \"Claudio Bahamonde\",\n",
    "    \"Felipe Abarzúa\",\n",
    "    \"Diego Rodriguez\",\n",
    "    \"Javier Pizarro\",\n",
    "    \"Smilling Battaglini\",\n",
    "    \"Pamela Labbé\",\n",
    "    \"Marilina Fuentes\",\n",
    "    \"Jaime Castillo\",\n",
    "    \"Rodrigo Castillo\",\n",
    "    \"Ignacia Arenas\",\n",
    "    \"Luis reyes\",\n",
    "    \"Felipe Cabello\",\n",
    "    \"Polette Pino\",\n",
    "    \"Karen Lobos\",\n",
    "    \"Diego Ávila\",\n",
    "    \"Constanza Guzman\",\n",
    "    \"Nicole Alejandra Araya\",\n",
    "    \"Carlos Andrés Abarca\",\n",
    "    \"Marco Antonio Ramos\",\n",
    "    \"Claudia Araya\",\n",
    "    \"Daniela Hernández\",\n",
    "    \"Sergio Ananias\",\n",
    "    \"Alexis Bacian\",\n",
    "    \"Cristian Alvarez\",\n",
    "    \"Nubia Ascencio\",\n",
    "    \"Veronica Marín\",\n",
    "    \"Liliana Romina Garmendia\",\n",
    "    \"Rocio Macari\",\n",
    "    \"Loreto Llambias\",\n",
    "    \"Braulio Valdés\",\n",
    "]"
   ]
  },
  {
   "cell_type": "code",
   "execution_count": 4,
   "metadata": {},
   "outputs": [],
   "source": [
    "import random\n",
    "\n",
    "def random_student():\n",
    "    return random.choice(data_science_students)"
   ]
  },
  {
   "cell_type": "code",
   "execution_count": 5,
   "metadata": {},
   "outputs": [
    {
     "data": {
      "text/plain": [
       "'Karen Lobos'"
      ]
     },
     "execution_count": 5,
     "metadata": {},
     "output_type": "execute_result"
    }
   ],
   "source": [
    "random_student()"
   ]
  },
  {
   "attachments": {},
   "cell_type": "markdown",
   "metadata": {},
   "source": [
    "## Selección condicional en un array"
   ]
  },
  {
   "cell_type": "code",
   "execution_count": 17,
   "metadata": {},
   "outputs": [],
   "source": [
    "import numpy as np\n",
    "# fijar la semilla para que los resultados sean reproducibles\n",
    "np.random.seed(0)"
   ]
  },
  {
   "cell_type": "code",
   "execution_count": 8,
   "metadata": {},
   "outputs": [
    {
     "data": {
      "text/plain": [
       "array([9, 2, 6, 0, 4, 3, 1, 2, 4, 9, 8, 9, 4, 8, 9, 8, 4, 6, 7, 1])"
      ]
     },
     "execution_count": 8,
     "metadata": {},
     "output_type": "execute_result"
    }
   ],
   "source": [
    "# crear un array de 20 elmentos con valores enteros aleatorios entre 0 y 10\n",
    "\n",
    "arreglo = np.random.randint(0, 10, 20)\n",
    "arreglo"
   ]
  },
  {
   "cell_type": "code",
   "execution_count": 15,
   "metadata": {},
   "outputs": [
    {
     "data": {
      "text/plain": [
       "array([ True,  True,  True,  True,  True,  True,  True,  True,  True,\n",
       "        True,  True,  True,  True,  True,  True,  True,  True,  True,\n",
       "        True,  True])"
      ]
     },
     "execution_count": 15,
     "metadata": {},
     "output_type": "execute_result"
    }
   ],
   "source": [
    "# filtrar los elementos del array que sean mayores a 8\n",
    "\n",
    "mascara_numeros_grandes = arreglo >= 0\n",
    "mascara_numeros_grandes"
   ]
  },
  {
   "cell_type": "code",
   "execution_count": 16,
   "metadata": {},
   "outputs": [
    {
     "data": {
      "text/plain": [
       "array([9, 2, 6, 0, 4, 3, 1, 2, 4, 9, 8, 9, 4, 8, 9, 8, 4, 6, 7, 1])"
      ]
     },
     "execution_count": 16,
     "metadata": {},
     "output_type": "execute_result"
    }
   ],
   "source": [
    "datos_filtrados = arreglo[mascara_numeros_grandes]\n",
    "datos_filtrados"
   ]
  },
  {
   "cell_type": "code",
   "execution_count": 19,
   "metadata": {},
   "outputs": [
    {
     "name": "stdout",
     "output_type": "stream",
     "text": [
      "[9 2 6 0 4 3 1 2 4 9 8 9 4 8 9 8 4 6 7 1]\n"
     ]
    },
    {
     "data": {
      "text/plain": [
       "array([False,  True,  True,  True,  True, False, False,  True,  True,\n",
       "       False,  True, False,  True,  True, False,  True,  True,  True,\n",
       "       False, False])"
      ]
     },
     "execution_count": 19,
     "metadata": {},
     "output_type": "execute_result"
    }
   ],
   "source": [
    "# filtrar los elementos pares del array\n",
    "print(arreglo)\n",
    "mascara_numeros_pares = arreglo % 2 == 0\n",
    "mascara_numeros_pares"
   ]
  },
  {
   "cell_type": "code",
   "execution_count": 20,
   "metadata": {},
   "outputs": [
    {
     "data": {
      "text/plain": [
       "array([2, 6, 0, 4, 2, 4, 8, 4, 8, 8, 4, 6])"
      ]
     },
     "execution_count": 20,
     "metadata": {},
     "output_type": "execute_result"
    }
   ],
   "source": [
    "datos_pares = arreglo[mascara_numeros_pares]\n",
    "datos_pares"
   ]
  },
  {
   "cell_type": "code",
   "execution_count": 22,
   "metadata": {},
   "outputs": [
    {
     "name": "stdout",
     "output_type": "stream",
     "text": [
      "[7 6 8 8 1]\n",
      "[6 7 7 8 1]\n"
     ]
    }
   ],
   "source": [
    "# suma de dos arrays de la misma dimensión\n",
    "arreglo_1 = np.random.randint(0, 10, 5)\n",
    "print(arreglo_1)\n",
    "\n",
    "arreglo_2 = np.random.randint(0, 10, 5)\n",
    "print(arreglo_2)"
   ]
  },
  {
   "cell_type": "code",
   "execution_count": 27,
   "metadata": {},
   "outputs": [
    {
     "data": {
      "text/plain": [
       "array([1.09663316e+03, 4.03428793e+02, 2.98095799e+03, 2.98095799e+03,\n",
       "       2.71828183e+00])"
      ]
     },
     "execution_count": 27,
     "metadata": {},
     "output_type": "execute_result"
    }
   ],
   "source": [
    "np.exp(arreglo_1)"
   ]
  },
  {
   "cell_type": "code",
   "execution_count": 28,
   "metadata": {},
   "outputs": [
    {
     "data": {
      "text/plain": [
       "205"
      ]
     },
     "execution_count": 28,
     "metadata": {},
     "output_type": "execute_result"
    }
   ],
   "source": [
    "arreglo_1.dot(arreglo_2)"
   ]
  },
  {
   "cell_type": "code",
   "execution_count": 29,
   "metadata": {},
   "outputs": [
    {
     "data": {
      "text/plain": [
       "205"
      ]
     },
     "execution_count": 29,
     "metadata": {},
     "output_type": "execute_result"
    }
   ],
   "source": [
    "np.sum(arreglo_1 * arreglo_2)"
   ]
  },
  {
   "cell_type": "code",
   "execution_count": 30,
   "metadata": {},
   "outputs": [
    {
     "data": {
      "text/plain": [
       "'Liliana Romina Garmendia'"
      ]
     },
     "execution_count": 30,
     "metadata": {},
     "output_type": "execute_result"
    }
   ],
   "source": [
    "random_student()"
   ]
  },
  {
   "attachments": {},
   "cell_type": "markdown",
   "metadata": {},
   "source": [
    "## Pandas"
   ]
  },
  {
   "cell_type": "code",
   "execution_count": 32,
   "metadata": {},
   "outputs": [
    {
     "data": {
      "text/plain": [
       "'Alexis Bacian'"
      ]
     },
     "execution_count": 32,
     "metadata": {},
     "output_type": "execute_result"
    }
   ],
   "source": [
    "random_student()"
   ]
  },
  {
   "cell_type": "code",
   "execution_count": 39,
   "metadata": {},
   "outputs": [],
   "source": [
    "import pandas as pd"
   ]
  },
  {
   "cell_type": "code",
   "execution_count": 40,
   "metadata": {},
   "outputs": [],
   "source": [
    "# crear un dataframe de estudiantes de matematica a partir de un diccionario\n",
    "\n",
    "estudiantes_ds = {\n",
    "    \"nombre\": [\n",
    "        \"Claudio Bahamonde\",\n",
    "        \"Felipe Abarzúa\",\n",
    "        \"Diego Rodriguez\",\n",
    "        \"Javier Pizarro\",\n",
    "        \"Smilling Battaglini\",\n",
    "        \"Pamela Labbé\",\n",
    "        \"Marilina Fuentes\",\n",
    "    ],\n",
    "    \"edad\": [25, 26, 27, 28, 29, 30, 31],\n",
    "    \"nota\": [1, 2, 3, 4, 5, 6, 7],\n",
    "}\n",
    "\n",
    "estudiantes_ds_df = pd.DataFrame(estudiantes_ds)"
   ]
  },
  {
   "cell_type": "code",
   "execution_count": 44,
   "metadata": {},
   "outputs": [
    {
     "data": {
      "text/html": [
       "<div>\n",
       "<style scoped>\n",
       "    .dataframe tbody tr th:only-of-type {\n",
       "        vertical-align: middle;\n",
       "    }\n",
       "\n",
       "    .dataframe tbody tr th {\n",
       "        vertical-align: top;\n",
       "    }\n",
       "\n",
       "    .dataframe thead th {\n",
       "        text-align: right;\n",
       "    }\n",
       "</style>\n",
       "<table border=\"1\" class=\"dataframe\">\n",
       "  <thead>\n",
       "    <tr style=\"text-align: right;\">\n",
       "      <th></th>\n",
       "      <th>nombre</th>\n",
       "      <th>edad</th>\n",
       "      <th>nota</th>\n",
       "    </tr>\n",
       "  </thead>\n",
       "  <tbody>\n",
       "    <tr>\n",
       "      <th>0</th>\n",
       "      <td>Claudio Bahamonde</td>\n",
       "      <td>25</td>\n",
       "      <td>1</td>\n",
       "    </tr>\n",
       "    <tr>\n",
       "      <th>1</th>\n",
       "      <td>Felipe Abarzúa</td>\n",
       "      <td>26</td>\n",
       "      <td>2</td>\n",
       "    </tr>\n",
       "    <tr>\n",
       "      <th>2</th>\n",
       "      <td>Diego Rodriguez</td>\n",
       "      <td>27</td>\n",
       "      <td>3</td>\n",
       "    </tr>\n",
       "    <tr>\n",
       "      <th>3</th>\n",
       "      <td>Javier Pizarro</td>\n",
       "      <td>28</td>\n",
       "      <td>4</td>\n",
       "    </tr>\n",
       "    <tr>\n",
       "      <th>4</th>\n",
       "      <td>Smilling Battaglini</td>\n",
       "      <td>29</td>\n",
       "      <td>5</td>\n",
       "    </tr>\n",
       "    <tr>\n",
       "      <th>5</th>\n",
       "      <td>Pamela Labbé</td>\n",
       "      <td>30</td>\n",
       "      <td>6</td>\n",
       "    </tr>\n",
       "    <tr>\n",
       "      <th>6</th>\n",
       "      <td>Marilina Fuentes</td>\n",
       "      <td>31</td>\n",
       "      <td>7</td>\n",
       "    </tr>\n",
       "  </tbody>\n",
       "</table>\n",
       "</div>"
      ],
      "text/plain": [
       "                nombre  edad  nota\n",
       "0    Claudio Bahamonde    25     1\n",
       "1       Felipe Abarzúa    26     2\n",
       "2      Diego Rodriguez    27     3\n",
       "3       Javier Pizarro    28     4\n",
       "4  Smilling Battaglini    29     5\n",
       "5         Pamela Labbé    30     6\n",
       "6     Marilina Fuentes    31     7"
      ]
     },
     "execution_count": 44,
     "metadata": {},
     "output_type": "execute_result"
    }
   ],
   "source": [
    "estudiantes_ds_df"
   ]
  },
  {
   "cell_type": "code",
   "execution_count": 45,
   "metadata": {},
   "outputs": [
    {
     "data": {
      "text/plain": [
       "nombre    object\n",
       "edad       int64\n",
       "nota       int64\n",
       "dtype: object"
      ]
     },
     "execution_count": 45,
     "metadata": {},
     "output_type": "execute_result"
    }
   ],
   "source": [
    "estudiantes_ds_df.dtypes"
   ]
  },
  {
   "cell_type": "code",
   "execution_count": 46,
   "metadata": {},
   "outputs": [
    {
     "data": {
      "text/html": [
       "<div>\n",
       "<style scoped>\n",
       "    .dataframe tbody tr th:only-of-type {\n",
       "        vertical-align: middle;\n",
       "    }\n",
       "\n",
       "    .dataframe tbody tr th {\n",
       "        vertical-align: top;\n",
       "    }\n",
       "\n",
       "    .dataframe thead th {\n",
       "        text-align: right;\n",
       "    }\n",
       "</style>\n",
       "<table border=\"1\" class=\"dataframe\">\n",
       "  <thead>\n",
       "    <tr style=\"text-align: right;\">\n",
       "      <th></th>\n",
       "      <th>edad</th>\n",
       "      <th>nota</th>\n",
       "    </tr>\n",
       "  </thead>\n",
       "  <tbody>\n",
       "    <tr>\n",
       "      <th>count</th>\n",
       "      <td>7.000000</td>\n",
       "      <td>7.000000</td>\n",
       "    </tr>\n",
       "    <tr>\n",
       "      <th>mean</th>\n",
       "      <td>28.000000</td>\n",
       "      <td>4.000000</td>\n",
       "    </tr>\n",
       "    <tr>\n",
       "      <th>std</th>\n",
       "      <td>2.160247</td>\n",
       "      <td>2.160247</td>\n",
       "    </tr>\n",
       "    <tr>\n",
       "      <th>min</th>\n",
       "      <td>25.000000</td>\n",
       "      <td>1.000000</td>\n",
       "    </tr>\n",
       "    <tr>\n",
       "      <th>25%</th>\n",
       "      <td>26.500000</td>\n",
       "      <td>2.500000</td>\n",
       "    </tr>\n",
       "    <tr>\n",
       "      <th>50%</th>\n",
       "      <td>28.000000</td>\n",
       "      <td>4.000000</td>\n",
       "    </tr>\n",
       "    <tr>\n",
       "      <th>75%</th>\n",
       "      <td>29.500000</td>\n",
       "      <td>5.500000</td>\n",
       "    </tr>\n",
       "    <tr>\n",
       "      <th>max</th>\n",
       "      <td>31.000000</td>\n",
       "      <td>7.000000</td>\n",
       "    </tr>\n",
       "  </tbody>\n",
       "</table>\n",
       "</div>"
      ],
      "text/plain": [
       "            edad      nota\n",
       "count   7.000000  7.000000\n",
       "mean   28.000000  4.000000\n",
       "std     2.160247  2.160247\n",
       "min    25.000000  1.000000\n",
       "25%    26.500000  2.500000\n",
       "50%    28.000000  4.000000\n",
       "75%    29.500000  5.500000\n",
       "max    31.000000  7.000000"
      ]
     },
     "execution_count": 46,
     "metadata": {},
     "output_type": "execute_result"
    }
   ],
   "source": [
    "estudiantes_ds_df.describe()"
   ]
  },
  {
   "cell_type": "code",
   "execution_count": null,
   "metadata": {},
   "outputs": [],
   "source": []
  }
 ],
 "metadata": {
  "kernelspec": {
   "display_name": "Python 3",
   "language": "python",
   "name": "python3"
  },
  "language_info": {
   "codemirror_mode": {
    "name": "ipython",
    "version": 3
   },
   "file_extension": ".py",
   "mimetype": "text/x-python",
   "name": "python",
   "nbconvert_exporter": "python",
   "pygments_lexer": "ipython3",
   "version": "3.10.6"
  },
  "orig_nbformat": 4
 },
 "nbformat": 4,
 "nbformat_minor": 2
}
